{
  "nbformat": 4,
  "nbformat_minor": 0,
  "metadata": {
    "colab": {
      "provenance": [],
      "toc_visible": true
    },
    "kernelspec": {
      "name": "python3",
      "display_name": "Python 3"
    },
    "language_info": {
      "name": "python"
    }
  },
  "cells": [
    {
      "cell_type": "markdown",
      "source": [
        "# Import Library dan Upload Dataset"
      ],
      "metadata": {
        "id": "JxdxbybpTSDw"
      }
    },
    {
      "cell_type": "code",
      "execution_count": 4,
      "metadata": {
        "id": "VtTICkDjD7Nd"
      },
      "outputs": [],
      "source": [
        "#Import libraries\n",
        "import pandas as pd\n",
        "import numpy as np\n",
        "import matplotlib.pyplot as plt\n",
        "from scipy import stats\n",
        "import datetime\n",
        "import seaborn as sns"
      ]
    },
    {
      "cell_type": "code",
      "source": [
        "# code ini untuk menghilangkan warning message saat kita menjalankan code-code\n",
        "import warnings\n",
        "warnings.filterwarnings('ignore')"
      ],
      "metadata": {
        "id": "PAO55MmFku1J"
      },
      "execution_count": 5,
      "outputs": []
    },
    {
      "cell_type": "code",
      "source": [
        "# Load data kita ke sebuah dataframe bernama df\n",
        "customer_data = pd.read_csv('/content/customer_data.csv')"
      ],
      "metadata": {
        "id": "7H3C2izwTWLU"
      },
      "execution_count": 12,
      "outputs": []
    },
    {
      "cell_type": "markdown",
      "source": [
        "#Eksplorasi Data Awal (EDA)"
      ],
      "metadata": {
        "id": "Gyi3D5PZNY70"
      }
    },
    {
      "cell_type": "markdown",
      "source": [
        "###Data Customer"
      ],
      "metadata": {
        "id": "FFyc79gENT-Y"
      }
    },
    {
      "cell_type": "code",
      "source": [
        "#cek dimensi data customer\n",
        "customer_data.shape"
      ],
      "metadata": {
        "colab": {
          "base_uri": "https://localhost:8080/"
        },
        "id": "WCnzrMZcNzZs",
        "outputId": "f2a2f8ca-1e02-4301-ed23-23cd071c75d9"
      },
      "execution_count": 13,
      "outputs": [
        {
          "output_type": "execute_result",
          "data": {
            "text/plain": [
              "(2240, 9)"
            ]
          },
          "metadata": {},
          "execution_count": 13
        }
      ]
    },
    {
      "cell_type": "code",
      "source": [
        "customer_data.info()"
      ],
      "metadata": {
        "colab": {
          "base_uri": "https://localhost:8080/"
        },
        "id": "yfC_3GbGN7oi",
        "outputId": "96c01cc5-d83b-44e9-bf2d-63e472ceb53e"
      },
      "execution_count": 14,
      "outputs": [
        {
          "output_type": "stream",
          "name": "stdout",
          "text": [
            "<class 'pandas.core.frame.DataFrame'>\n",
            "RangeIndex: 2240 entries, 0 to 2239\n",
            "Data columns (total 9 columns):\n",
            " #   Column             Non-Null Count  Dtype  \n",
            "---  ------             --------------  -----  \n",
            " 0   ID                 2240 non-null   int64  \n",
            " 1   Year_Birth         2240 non-null   int64  \n",
            " 2   Education          2240 non-null   object \n",
            " 3   Income             2216 non-null   float64\n",
            " 4   Dt_Customer        2240 non-null   object \n",
            " 5   Recency            2240 non-null   int64  \n",
            " 6   NumWebPurchases    2240 non-null   int64  \n",
            " 7   NumStorePurchases  2240 non-null   int64  \n",
            " 8   NumWebVisitsMonth  2240 non-null   int64  \n",
            "dtypes: float64(1), int64(6), object(2)\n",
            "memory usage: 157.6+ KB\n"
          ]
        }
      ]
    },
    {
      "cell_type": "markdown",
      "source": [
        "Berdasarkan informasi di atas, tipe data untuk kolom *Dt_Customer* seharusnya datetime karena berupa tanggal"
      ],
      "metadata": {
        "id": "L78rlww7VR8t"
      }
    },
    {
      "cell_type": "code",
      "source": [
        "customer_data.head(10)"
      ],
      "metadata": {
        "colab": {
          "base_uri": "https://localhost:8080/",
          "height": 383
        },
        "id": "kX4HaCTqObNl",
        "outputId": "fab7c603-7b20-4865-f723-19fb584ae1a8"
      },
      "execution_count": 15,
      "outputs": [
        {
          "output_type": "execute_result",
          "data": {
            "text/plain": [
              "     ID  Year_Birth   Education   Income Dt_Customer  Recency  \\\n",
              "0  5524        1957  Graduation  58138.0    9/4/2012       58   \n",
              "1  2174        1954  Graduation  46344.0    3/8/2014       38   \n",
              "2  4141        1965  Graduation  71613.0   8/21/2013       26   \n",
              "3  6182        1984  Graduation  26646.0   2/10/2014       26   \n",
              "4  5324        1981         PhD  58293.0   1/19/2014       94   \n",
              "5  7446        1967      Master  62513.0    9/9/2013       16   \n",
              "6   965        1971  Graduation  55635.0  11/13/2012       34   \n",
              "7  6177        1985         PhD  33454.0    5/8/2013       32   \n",
              "8  4855        1974         PhD  30351.0    6/6/2013       19   \n",
              "9  5899        1950         PhD   5648.0   3/13/2014       68   \n",
              "\n",
              "   NumWebPurchases  NumStorePurchases  NumWebVisitsMonth  \n",
              "0                8                  4                  7  \n",
              "1                1                  2                  5  \n",
              "2                8                 10                  4  \n",
              "3                2                  4                  6  \n",
              "4                5                  6                  5  \n",
              "5                6                 10                  6  \n",
              "6                7                  7                  6  \n",
              "7                4                  4                  8  \n",
              "8                3                  2                  9  \n",
              "9                1                  0                 20  "
            ],
            "text/html": [
              "\n",
              "  <div id=\"df-8ccc3e65-72f1-4559-aaf2-b4993992e624\" class=\"colab-df-container\">\n",
              "    <div>\n",
              "<style scoped>\n",
              "    .dataframe tbody tr th:only-of-type {\n",
              "        vertical-align: middle;\n",
              "    }\n",
              "\n",
              "    .dataframe tbody tr th {\n",
              "        vertical-align: top;\n",
              "    }\n",
              "\n",
              "    .dataframe thead th {\n",
              "        text-align: right;\n",
              "    }\n",
              "</style>\n",
              "<table border=\"1\" class=\"dataframe\">\n",
              "  <thead>\n",
              "    <tr style=\"text-align: right;\">\n",
              "      <th></th>\n",
              "      <th>ID</th>\n",
              "      <th>Year_Birth</th>\n",
              "      <th>Education</th>\n",
              "      <th>Income</th>\n",
              "      <th>Dt_Customer</th>\n",
              "      <th>Recency</th>\n",
              "      <th>NumWebPurchases</th>\n",
              "      <th>NumStorePurchases</th>\n",
              "      <th>NumWebVisitsMonth</th>\n",
              "    </tr>\n",
              "  </thead>\n",
              "  <tbody>\n",
              "    <tr>\n",
              "      <th>0</th>\n",
              "      <td>5524</td>\n",
              "      <td>1957</td>\n",
              "      <td>Graduation</td>\n",
              "      <td>58138.0</td>\n",
              "      <td>9/4/2012</td>\n",
              "      <td>58</td>\n",
              "      <td>8</td>\n",
              "      <td>4</td>\n",
              "      <td>7</td>\n",
              "    </tr>\n",
              "    <tr>\n",
              "      <th>1</th>\n",
              "      <td>2174</td>\n",
              "      <td>1954</td>\n",
              "      <td>Graduation</td>\n",
              "      <td>46344.0</td>\n",
              "      <td>3/8/2014</td>\n",
              "      <td>38</td>\n",
              "      <td>1</td>\n",
              "      <td>2</td>\n",
              "      <td>5</td>\n",
              "    </tr>\n",
              "    <tr>\n",
              "      <th>2</th>\n",
              "      <td>4141</td>\n",
              "      <td>1965</td>\n",
              "      <td>Graduation</td>\n",
              "      <td>71613.0</td>\n",
              "      <td>8/21/2013</td>\n",
              "      <td>26</td>\n",
              "      <td>8</td>\n",
              "      <td>10</td>\n",
              "      <td>4</td>\n",
              "    </tr>\n",
              "    <tr>\n",
              "      <th>3</th>\n",
              "      <td>6182</td>\n",
              "      <td>1984</td>\n",
              "      <td>Graduation</td>\n",
              "      <td>26646.0</td>\n",
              "      <td>2/10/2014</td>\n",
              "      <td>26</td>\n",
              "      <td>2</td>\n",
              "      <td>4</td>\n",
              "      <td>6</td>\n",
              "    </tr>\n",
              "    <tr>\n",
              "      <th>4</th>\n",
              "      <td>5324</td>\n",
              "      <td>1981</td>\n",
              "      <td>PhD</td>\n",
              "      <td>58293.0</td>\n",
              "      <td>1/19/2014</td>\n",
              "      <td>94</td>\n",
              "      <td>5</td>\n",
              "      <td>6</td>\n",
              "      <td>5</td>\n",
              "    </tr>\n",
              "    <tr>\n",
              "      <th>5</th>\n",
              "      <td>7446</td>\n",
              "      <td>1967</td>\n",
              "      <td>Master</td>\n",
              "      <td>62513.0</td>\n",
              "      <td>9/9/2013</td>\n",
              "      <td>16</td>\n",
              "      <td>6</td>\n",
              "      <td>10</td>\n",
              "      <td>6</td>\n",
              "    </tr>\n",
              "    <tr>\n",
              "      <th>6</th>\n",
              "      <td>965</td>\n",
              "      <td>1971</td>\n",
              "      <td>Graduation</td>\n",
              "      <td>55635.0</td>\n",
              "      <td>11/13/2012</td>\n",
              "      <td>34</td>\n",
              "      <td>7</td>\n",
              "      <td>7</td>\n",
              "      <td>6</td>\n",
              "    </tr>\n",
              "    <tr>\n",
              "      <th>7</th>\n",
              "      <td>6177</td>\n",
              "      <td>1985</td>\n",
              "      <td>PhD</td>\n",
              "      <td>33454.0</td>\n",
              "      <td>5/8/2013</td>\n",
              "      <td>32</td>\n",
              "      <td>4</td>\n",
              "      <td>4</td>\n",
              "      <td>8</td>\n",
              "    </tr>\n",
              "    <tr>\n",
              "      <th>8</th>\n",
              "      <td>4855</td>\n",
              "      <td>1974</td>\n",
              "      <td>PhD</td>\n",
              "      <td>30351.0</td>\n",
              "      <td>6/6/2013</td>\n",
              "      <td>19</td>\n",
              "      <td>3</td>\n",
              "      <td>2</td>\n",
              "      <td>9</td>\n",
              "    </tr>\n",
              "    <tr>\n",
              "      <th>9</th>\n",
              "      <td>5899</td>\n",
              "      <td>1950</td>\n",
              "      <td>PhD</td>\n",
              "      <td>5648.0</td>\n",
              "      <td>3/13/2014</td>\n",
              "      <td>68</td>\n",
              "      <td>1</td>\n",
              "      <td>0</td>\n",
              "      <td>20</td>\n",
              "    </tr>\n",
              "  </tbody>\n",
              "</table>\n",
              "</div>\n",
              "    <div class=\"colab-df-buttons\">\n",
              "\n",
              "  <div class=\"colab-df-container\">\n",
              "    <button class=\"colab-df-convert\" onclick=\"convertToInteractive('df-8ccc3e65-72f1-4559-aaf2-b4993992e624')\"\n",
              "            title=\"Convert this dataframe to an interactive table.\"\n",
              "            style=\"display:none;\">\n",
              "\n",
              "  <svg xmlns=\"http://www.w3.org/2000/svg\" height=\"24px\" viewBox=\"0 -960 960 960\">\n",
              "    <path d=\"M120-120v-720h720v720H120Zm60-500h600v-160H180v160Zm220 220h160v-160H400v160Zm0 220h160v-160H400v160ZM180-400h160v-160H180v160Zm440 0h160v-160H620v160ZM180-180h160v-160H180v160Zm440 0h160v-160H620v160Z\"/>\n",
              "  </svg>\n",
              "    </button>\n",
              "\n",
              "  <style>\n",
              "    .colab-df-container {\n",
              "      display:flex;\n",
              "      gap: 12px;\n",
              "    }\n",
              "\n",
              "    .colab-df-convert {\n",
              "      background-color: #E8F0FE;\n",
              "      border: none;\n",
              "      border-radius: 50%;\n",
              "      cursor: pointer;\n",
              "      display: none;\n",
              "      fill: #1967D2;\n",
              "      height: 32px;\n",
              "      padding: 0 0 0 0;\n",
              "      width: 32px;\n",
              "    }\n",
              "\n",
              "    .colab-df-convert:hover {\n",
              "      background-color: #E2EBFA;\n",
              "      box-shadow: 0px 1px 2px rgba(60, 64, 67, 0.3), 0px 1px 3px 1px rgba(60, 64, 67, 0.15);\n",
              "      fill: #174EA6;\n",
              "    }\n",
              "\n",
              "    .colab-df-buttons div {\n",
              "      margin-bottom: 4px;\n",
              "    }\n",
              "\n",
              "    [theme=dark] .colab-df-convert {\n",
              "      background-color: #3B4455;\n",
              "      fill: #D2E3FC;\n",
              "    }\n",
              "\n",
              "    [theme=dark] .colab-df-convert:hover {\n",
              "      background-color: #434B5C;\n",
              "      box-shadow: 0px 1px 3px 1px rgba(0, 0, 0, 0.15);\n",
              "      filter: drop-shadow(0px 1px 2px rgba(0, 0, 0, 0.3));\n",
              "      fill: #FFFFFF;\n",
              "    }\n",
              "  </style>\n",
              "\n",
              "    <script>\n",
              "      const buttonEl =\n",
              "        document.querySelector('#df-8ccc3e65-72f1-4559-aaf2-b4993992e624 button.colab-df-convert');\n",
              "      buttonEl.style.display =\n",
              "        google.colab.kernel.accessAllowed ? 'block' : 'none';\n",
              "\n",
              "      async function convertToInteractive(key) {\n",
              "        const element = document.querySelector('#df-8ccc3e65-72f1-4559-aaf2-b4993992e624');\n",
              "        const dataTable =\n",
              "          await google.colab.kernel.invokeFunction('convertToInteractive',\n",
              "                                                    [key], {});\n",
              "        if (!dataTable) return;\n",
              "\n",
              "        const docLinkHtml = 'Like what you see? Visit the ' +\n",
              "          '<a target=\"_blank\" href=https://colab.research.google.com/notebooks/data_table.ipynb>data table notebook</a>'\n",
              "          + ' to learn more about interactive tables.';\n",
              "        element.innerHTML = '';\n",
              "        dataTable['output_type'] = 'display_data';\n",
              "        await google.colab.output.renderOutput(dataTable, element);\n",
              "        const docLink = document.createElement('div');\n",
              "        docLink.innerHTML = docLinkHtml;\n",
              "        element.appendChild(docLink);\n",
              "      }\n",
              "    </script>\n",
              "  </div>\n",
              "\n",
              "\n",
              "<div id=\"df-21133a11-4c2c-4266-b5f9-2b00885e5cc4\">\n",
              "  <button class=\"colab-df-quickchart\" onclick=\"quickchart('df-21133a11-4c2c-4266-b5f9-2b00885e5cc4')\"\n",
              "            title=\"Suggest charts\"\n",
              "            style=\"display:none;\">\n",
              "\n",
              "<svg xmlns=\"http://www.w3.org/2000/svg\" height=\"24px\"viewBox=\"0 0 24 24\"\n",
              "     width=\"24px\">\n",
              "    <g>\n",
              "        <path d=\"M19 3H5c-1.1 0-2 .9-2 2v14c0 1.1.9 2 2 2h14c1.1 0 2-.9 2-2V5c0-1.1-.9-2-2-2zM9 17H7v-7h2v7zm4 0h-2V7h2v10zm4 0h-2v-4h2v4z\"/>\n",
              "    </g>\n",
              "</svg>\n",
              "  </button>\n",
              "\n",
              "<style>\n",
              "  .colab-df-quickchart {\n",
              "      --bg-color: #E8F0FE;\n",
              "      --fill-color: #1967D2;\n",
              "      --hover-bg-color: #E2EBFA;\n",
              "      --hover-fill-color: #174EA6;\n",
              "      --disabled-fill-color: #AAA;\n",
              "      --disabled-bg-color: #DDD;\n",
              "  }\n",
              "\n",
              "  [theme=dark] .colab-df-quickchart {\n",
              "      --bg-color: #3B4455;\n",
              "      --fill-color: #D2E3FC;\n",
              "      --hover-bg-color: #434B5C;\n",
              "      --hover-fill-color: #FFFFFF;\n",
              "      --disabled-bg-color: #3B4455;\n",
              "      --disabled-fill-color: #666;\n",
              "  }\n",
              "\n",
              "  .colab-df-quickchart {\n",
              "    background-color: var(--bg-color);\n",
              "    border: none;\n",
              "    border-radius: 50%;\n",
              "    cursor: pointer;\n",
              "    display: none;\n",
              "    fill: var(--fill-color);\n",
              "    height: 32px;\n",
              "    padding: 0;\n",
              "    width: 32px;\n",
              "  }\n",
              "\n",
              "  .colab-df-quickchart:hover {\n",
              "    background-color: var(--hover-bg-color);\n",
              "    box-shadow: 0 1px 2px rgba(60, 64, 67, 0.3), 0 1px 3px 1px rgba(60, 64, 67, 0.15);\n",
              "    fill: var(--button-hover-fill-color);\n",
              "  }\n",
              "\n",
              "  .colab-df-quickchart-complete:disabled,\n",
              "  .colab-df-quickchart-complete:disabled:hover {\n",
              "    background-color: var(--disabled-bg-color);\n",
              "    fill: var(--disabled-fill-color);\n",
              "    box-shadow: none;\n",
              "  }\n",
              "\n",
              "  .colab-df-spinner {\n",
              "    border: 2px solid var(--fill-color);\n",
              "    border-color: transparent;\n",
              "    border-bottom-color: var(--fill-color);\n",
              "    animation:\n",
              "      spin 1s steps(1) infinite;\n",
              "  }\n",
              "\n",
              "  @keyframes spin {\n",
              "    0% {\n",
              "      border-color: transparent;\n",
              "      border-bottom-color: var(--fill-color);\n",
              "      border-left-color: var(--fill-color);\n",
              "    }\n",
              "    20% {\n",
              "      border-color: transparent;\n",
              "      border-left-color: var(--fill-color);\n",
              "      border-top-color: var(--fill-color);\n",
              "    }\n",
              "    30% {\n",
              "      border-color: transparent;\n",
              "      border-left-color: var(--fill-color);\n",
              "      border-top-color: var(--fill-color);\n",
              "      border-right-color: var(--fill-color);\n",
              "    }\n",
              "    40% {\n",
              "      border-color: transparent;\n",
              "      border-right-color: var(--fill-color);\n",
              "      border-top-color: var(--fill-color);\n",
              "    }\n",
              "    60% {\n",
              "      border-color: transparent;\n",
              "      border-right-color: var(--fill-color);\n",
              "    }\n",
              "    80% {\n",
              "      border-color: transparent;\n",
              "      border-right-color: var(--fill-color);\n",
              "      border-bottom-color: var(--fill-color);\n",
              "    }\n",
              "    90% {\n",
              "      border-color: transparent;\n",
              "      border-bottom-color: var(--fill-color);\n",
              "    }\n",
              "  }\n",
              "</style>\n",
              "\n",
              "  <script>\n",
              "    async function quickchart(key) {\n",
              "      const quickchartButtonEl =\n",
              "        document.querySelector('#' + key + ' button');\n",
              "      quickchartButtonEl.disabled = true;  // To prevent multiple clicks.\n",
              "      quickchartButtonEl.classList.add('colab-df-spinner');\n",
              "      try {\n",
              "        const charts = await google.colab.kernel.invokeFunction(\n",
              "            'suggestCharts', [key], {});\n",
              "      } catch (error) {\n",
              "        console.error('Error during call to suggestCharts:', error);\n",
              "      }\n",
              "      quickchartButtonEl.classList.remove('colab-df-spinner');\n",
              "      quickchartButtonEl.classList.add('colab-df-quickchart-complete');\n",
              "    }\n",
              "    (() => {\n",
              "      let quickchartButtonEl =\n",
              "        document.querySelector('#df-21133a11-4c2c-4266-b5f9-2b00885e5cc4 button');\n",
              "      quickchartButtonEl.style.display =\n",
              "        google.colab.kernel.accessAllowed ? 'block' : 'none';\n",
              "    })();\n",
              "  </script>\n",
              "</div>\n",
              "\n",
              "    </div>\n",
              "  </div>\n"
            ],
            "application/vnd.google.colaboratory.intrinsic+json": {
              "type": "dataframe",
              "variable_name": "customer_data",
              "summary": "{\n  \"name\": \"customer_data\",\n  \"rows\": 2240,\n  \"fields\": [\n    {\n      \"column\": \"ID\",\n      \"properties\": {\n        \"dtype\": \"number\",\n        \"std\": 3246,\n        \"min\": 0,\n        \"max\": 11191,\n        \"num_unique_values\": 2240,\n        \"samples\": [\n          2607,\n          7247,\n          5802\n        ],\n        \"semantic_type\": \"\",\n        \"description\": \"\"\n      }\n    },\n    {\n      \"column\": \"Year_Birth\",\n      \"properties\": {\n        \"dtype\": \"number\",\n        \"std\": 11,\n        \"min\": 1893,\n        \"max\": 1996,\n        \"num_unique_values\": 59,\n        \"samples\": [\n          1957,\n          1967,\n          1955\n        ],\n        \"semantic_type\": \"\",\n        \"description\": \"\"\n      }\n    },\n    {\n      \"column\": \"Education\",\n      \"properties\": {\n        \"dtype\": \"category\",\n        \"num_unique_values\": 5,\n        \"samples\": [\n          \"PhD\",\n          \"2n Cycle\",\n          \"Master\"\n        ],\n        \"semantic_type\": \"\",\n        \"description\": \"\"\n      }\n    },\n    {\n      \"column\": \"Income\",\n      \"properties\": {\n        \"dtype\": \"number\",\n        \"std\": 25173.076660901403,\n        \"min\": 1730.0,\n        \"max\": 666666.0,\n        \"num_unique_values\": 1974,\n        \"samples\": [\n          53154.0,\n          63211.0,\n          18988.0\n        ],\n        \"semantic_type\": \"\",\n        \"description\": \"\"\n      }\n    },\n    {\n      \"column\": \"Dt_Customer\",\n      \"properties\": {\n        \"dtype\": \"object\",\n        \"num_unique_values\": 663,\n        \"samples\": [\n          \"4/23/2013\",\n          \"12/2/2012\",\n          \"2/18/2014\"\n        ],\n        \"semantic_type\": \"\",\n        \"description\": \"\"\n      }\n    },\n    {\n      \"column\": \"Recency\",\n      \"properties\": {\n        \"dtype\": \"number\",\n        \"std\": 28,\n        \"min\": 0,\n        \"max\": 99,\n        \"num_unique_values\": 100,\n        \"samples\": [\n          78,\n          87,\n          65\n        ],\n        \"semantic_type\": \"\",\n        \"description\": \"\"\n      }\n    },\n    {\n      \"column\": \"NumWebPurchases\",\n      \"properties\": {\n        \"dtype\": \"number\",\n        \"std\": 2,\n        \"min\": 0,\n        \"max\": 27,\n        \"num_unique_values\": 15,\n        \"samples\": [\n          0,\n          10,\n          8\n        ],\n        \"semantic_type\": \"\",\n        \"description\": \"\"\n      }\n    },\n    {\n      \"column\": \"NumStorePurchases\",\n      \"properties\": {\n        \"dtype\": \"number\",\n        \"std\": 3,\n        \"min\": 0,\n        \"max\": 13,\n        \"num_unique_values\": 14,\n        \"samples\": [\n          12,\n          13,\n          4\n        ],\n        \"semantic_type\": \"\",\n        \"description\": \"\"\n      }\n    },\n    {\n      \"column\": \"NumWebVisitsMonth\",\n      \"properties\": {\n        \"dtype\": \"number\",\n        \"std\": 2,\n        \"min\": 0,\n        \"max\": 20,\n        \"num_unique_values\": 16,\n        \"samples\": [\n          7,\n          5,\n          9\n        ],\n        \"semantic_type\": \"\",\n        \"description\": \"\"\n      }\n    }\n  ]\n}"
            }
          },
          "metadata": {},
          "execution_count": 15
        }
      ]
    },
    {
      "cell_type": "code",
      "source": [
        "customer_data.groupby('Education').size()"
      ],
      "metadata": {
        "colab": {
          "base_uri": "https://localhost:8080/"
        },
        "id": "tbz_UQ3BOptk",
        "outputId": "4b05c9bd-fffe-4e85-d390-17400b642f6a"
      },
      "execution_count": 16,
      "outputs": [
        {
          "output_type": "execute_result",
          "data": {
            "text/plain": [
              "Education\n",
              "2n Cycle       203\n",
              "Basic           54\n",
              "Graduation    1127\n",
              "Master         370\n",
              "PhD            486\n",
              "dtype: int64"
            ]
          },
          "metadata": {},
          "execution_count": 16
        }
      ]
    },
    {
      "cell_type": "markdown",
      "source": [
        "#Pre Processing"
      ],
      "metadata": {
        "id": "KwS0IuT0NWW-"
      }
    },
    {
      "cell_type": "markdown",
      "source": [
        "###Check Missing Value"
      ],
      "metadata": {
        "id": "LHiOvJAWPyAs"
      }
    },
    {
      "cell_type": "code",
      "source": [
        "customer_data.isna().sum()"
      ],
      "metadata": {
        "colab": {
          "base_uri": "https://localhost:8080/"
        },
        "id": "fytYEigpTfuH",
        "outputId": "22a2d2c3-b869-4354-b141-729088833337"
      },
      "execution_count": 17,
      "outputs": [
        {
          "output_type": "execute_result",
          "data": {
            "text/plain": [
              "ID                    0\n",
              "Year_Birth            0\n",
              "Education             0\n",
              "Income               24\n",
              "Dt_Customer           0\n",
              "Recency               0\n",
              "NumWebPurchases       0\n",
              "NumStorePurchases     0\n",
              "NumWebVisitsMonth     0\n",
              "dtype: int64"
            ]
          },
          "metadata": {},
          "execution_count": 17
        }
      ]
    },
    {
      "cell_type": "code",
      "source": [
        "(customer_data.isna().sum() / customer_data.shape[0]) / 100"
      ],
      "metadata": {
        "colab": {
          "base_uri": "https://localhost:8080/"
        },
        "id": "ypSPxWcXT04G",
        "outputId": "f0d2dd6c-63fa-49b1-95b0-1092956d6405"
      },
      "execution_count": 18,
      "outputs": [
        {
          "output_type": "execute_result",
          "data": {
            "text/plain": [
              "ID                   0.000000\n",
              "Year_Birth           0.000000\n",
              "Education            0.000000\n",
              "Income               0.000107\n",
              "Dt_Customer          0.000000\n",
              "Recency              0.000000\n",
              "NumWebPurchases      0.000000\n",
              "NumStorePurchases    0.000000\n",
              "NumWebVisitsMonth    0.000000\n",
              "dtype: float64"
            ]
          },
          "metadata": {},
          "execution_count": 18
        }
      ]
    },
    {
      "cell_type": "markdown",
      "source": [
        "###Duplicate Data"
      ],
      "metadata": {
        "id": "vYBaVvlOPyp5"
      }
    },
    {
      "cell_type": "code",
      "source": [
        "customer_data.duplicated().sum()"
      ],
      "metadata": {
        "colab": {
          "base_uri": "https://localhost:8080/"
        },
        "id": "eb798vAFTmwq",
        "outputId": "23047d28-920a-432c-a823-30a57bf45897"
      },
      "execution_count": 19,
      "outputs": [
        {
          "output_type": "execute_result",
          "data": {
            "text/plain": [
              "0"
            ]
          },
          "metadata": {},
          "execution_count": 19
        }
      ]
    },
    {
      "cell_type": "markdown",
      "source": [
        "###Handling Data Type"
      ],
      "metadata": {
        "id": "qOXyZiL8Vgbr"
      }
    },
    {
      "cell_type": "code",
      "source": [
        "customer_data['Dt_Customer'] = pd.to_datetime(customer_data['Dt_Customer'])"
      ],
      "metadata": {
        "id": "oBsA2VnxVjPa"
      },
      "execution_count": 20,
      "outputs": []
    },
    {
      "cell_type": "code",
      "source": [
        "customer_data.info()"
      ],
      "metadata": {
        "colab": {
          "base_uri": "https://localhost:8080/"
        },
        "id": "g-Dt5ZwMWD-W",
        "outputId": "3788591b-fcf4-46e8-b3b3-24fdc76aba66"
      },
      "execution_count": 21,
      "outputs": [
        {
          "output_type": "stream",
          "name": "stdout",
          "text": [
            "<class 'pandas.core.frame.DataFrame'>\n",
            "RangeIndex: 2240 entries, 0 to 2239\n",
            "Data columns (total 9 columns):\n",
            " #   Column             Non-Null Count  Dtype         \n",
            "---  ------             --------------  -----         \n",
            " 0   ID                 2240 non-null   int64         \n",
            " 1   Year_Birth         2240 non-null   int64         \n",
            " 2   Education          2240 non-null   object        \n",
            " 3   Income             2216 non-null   float64       \n",
            " 4   Dt_Customer        2240 non-null   datetime64[ns]\n",
            " 5   Recency            2240 non-null   int64         \n",
            " 6   NumWebPurchases    2240 non-null   int64         \n",
            " 7   NumStorePurchases  2240 non-null   int64         \n",
            " 8   NumWebVisitsMonth  2240 non-null   int64         \n",
            "dtypes: datetime64[ns](1), float64(1), int64(6), object(1)\n",
            "memory usage: 157.6+ KB\n"
          ]
        }
      ]
    },
    {
      "cell_type": "markdown",
      "source": [
        "###Data Typos"
      ],
      "metadata": {
        "id": "JG6nw9cAP1vN"
      }
    },
    {
      "cell_type": "code",
      "source": [
        "customer_data.info()"
      ],
      "metadata": {
        "colab": {
          "base_uri": "https://localhost:8080/"
        },
        "id": "A-OQxi3dT_Cx",
        "outputId": "667ec190-94d9-42c1-f3f1-8153a221a9c0"
      },
      "execution_count": 22,
      "outputs": [
        {
          "output_type": "stream",
          "name": "stdout",
          "text": [
            "<class 'pandas.core.frame.DataFrame'>\n",
            "RangeIndex: 2240 entries, 0 to 2239\n",
            "Data columns (total 9 columns):\n",
            " #   Column             Non-Null Count  Dtype         \n",
            "---  ------             --------------  -----         \n",
            " 0   ID                 2240 non-null   int64         \n",
            " 1   Year_Birth         2240 non-null   int64         \n",
            " 2   Education          2240 non-null   object        \n",
            " 3   Income             2216 non-null   float64       \n",
            " 4   Dt_Customer        2240 non-null   datetime64[ns]\n",
            " 5   Recency            2240 non-null   int64         \n",
            " 6   NumWebPurchases    2240 non-null   int64         \n",
            " 7   NumStorePurchases  2240 non-null   int64         \n",
            " 8   NumWebVisitsMonth  2240 non-null   int64         \n",
            "dtypes: datetime64[ns](1), float64(1), int64(6), object(1)\n",
            "memory usage: 157.6+ KB\n"
          ]
        }
      ]
    },
    {
      "cell_type": "code",
      "source": [
        "#Cek data typos disetiap kolom\n",
        "typoDF2 = customer_data.select_dtypes(include=['object']).columns\n",
        "for col in typoDF2:\n",
        "  print(col)\n",
        "  print(pd.DataFrame(customer_data[col].unique()))"
      ],
      "metadata": {
        "colab": {
          "base_uri": "https://localhost:8080/"
        },
        "id": "uTcOq0B9UV1m",
        "outputId": "df66606e-d255-4408-8ec6-d81ab42ec075"
      },
      "execution_count": 23,
      "outputs": [
        {
          "output_type": "stream",
          "name": "stdout",
          "text": [
            "Education\n",
            "            0\n",
            "0  Graduation\n",
            "1         PhD\n",
            "2      Master\n",
            "3       Basic\n",
            "4    2n Cycle\n"
          ]
        }
      ]
    },
    {
      "cell_type": "markdown",
      "source": [
        "###Handling Missing Value"
      ],
      "metadata": {
        "id": "CjpuGPOcP4z8"
      }
    },
    {
      "cell_type": "code",
      "source": [
        "customer_data.isna().sum()"
      ],
      "metadata": {
        "colab": {
          "base_uri": "https://localhost:8080/"
        },
        "id": "YMZQkSi9X_z5",
        "outputId": "2c226c7b-dda1-44e7-e969-60ae8136d2eb"
      },
      "execution_count": 24,
      "outputs": [
        {
          "output_type": "execute_result",
          "data": {
            "text/plain": [
              "ID                    0\n",
              "Year_Birth            0\n",
              "Education             0\n",
              "Income               24\n",
              "Dt_Customer           0\n",
              "Recency               0\n",
              "NumWebPurchases       0\n",
              "NumStorePurchases     0\n",
              "NumWebVisitsMonth     0\n",
              "dtype: int64"
            ]
          },
          "metadata": {},
          "execution_count": 24
        }
      ]
    },
    {
      "cell_type": "code",
      "source": [
        "customer_data.drop(customer_data[(customer_data['Income'].isnull())].index, inplace=True)"
      ],
      "metadata": {
        "id": "TFh-bnUVWPtJ"
      },
      "execution_count": 25,
      "outputs": []
    },
    {
      "cell_type": "code",
      "source": [
        "customer_data.isna().sum()"
      ],
      "metadata": {
        "colab": {
          "base_uri": "https://localhost:8080/"
        },
        "id": "GTAcsSHjYENI",
        "outputId": "7381ed8b-0f05-4503-999a-db0488474495"
      },
      "execution_count": 26,
      "outputs": [
        {
          "output_type": "execute_result",
          "data": {
            "text/plain": [
              "ID                   0\n",
              "Year_Birth           0\n",
              "Education            0\n",
              "Income               0\n",
              "Dt_Customer          0\n",
              "Recency              0\n",
              "NumWebPurchases      0\n",
              "NumStorePurchases    0\n",
              "NumWebVisitsMonth    0\n",
              "dtype: int64"
            ]
          },
          "metadata": {},
          "execution_count": 26
        }
      ]
    },
    {
      "cell_type": "markdown",
      "source": [
        "###Check Outliers"
      ],
      "metadata": {
        "id": "xumEPns-P7vI"
      }
    },
    {
      "cell_type": "code",
      "source": [
        "customer_data.info()"
      ],
      "metadata": {
        "colab": {
          "base_uri": "https://localhost:8080/"
        },
        "id": "84uycCzOYGFo",
        "outputId": "5f9a1501-6f09-42d9-f16e-83dbaeeaa3e6"
      },
      "execution_count": 27,
      "outputs": [
        {
          "output_type": "stream",
          "name": "stdout",
          "text": [
            "<class 'pandas.core.frame.DataFrame'>\n",
            "Index: 2216 entries, 0 to 2239\n",
            "Data columns (total 9 columns):\n",
            " #   Column             Non-Null Count  Dtype         \n",
            "---  ------             --------------  -----         \n",
            " 0   ID                 2216 non-null   int64         \n",
            " 1   Year_Birth         2216 non-null   int64         \n",
            " 2   Education          2216 non-null   object        \n",
            " 3   Income             2216 non-null   float64       \n",
            " 4   Dt_Customer        2216 non-null   datetime64[ns]\n",
            " 5   Recency            2216 non-null   int64         \n",
            " 6   NumWebPurchases    2216 non-null   int64         \n",
            " 7   NumStorePurchases  2216 non-null   int64         \n",
            " 8   NumWebVisitsMonth  2216 non-null   int64         \n",
            "dtypes: datetime64[ns](1), float64(1), int64(6), object(1)\n",
            "memory usage: 173.1+ KB\n"
          ]
        }
      ]
    },
    {
      "cell_type": "code",
      "source": [
        "#Cek outliers pada kolom data numerical menggunakan visualisasi boxplot\n",
        "ratio_data = ['Income', 'Recency', 'NumWebPurchases', 'NumStorePurchases', 'NumWebVisitsMonth' ]\n",
        "\n",
        "fig, axes = plt.subplots(nrows=2, ncols=3, figsize=(15, 10))\n",
        "\n",
        "# Iterasi melalui kolom-kolom yang akan diplot\n",
        "for i, data in enumerate(ratio_data):\n",
        "    # Menentukan subplot yang sesuai\n",
        "    row = i // 3\n",
        "    col = i % 3\n",
        "\n",
        "    # Membuat boxplot dalam subplot\n",
        "    customer_data[data].plot(kind='box', ax=axes[row, col])\n",
        "    axes[row, col].set_title(data)\n",
        "\n",
        "# Mengatur tata letak subplot\n",
        "plt.tight_layout()\n",
        "\n",
        "# Menampilkan gambar\n",
        "plt.show()\n"
      ],
      "metadata": {
        "colab": {
          "base_uri": "https://localhost:8080/",
          "height": 554
        },
        "id": "JWlrlugsYKYQ",
        "outputId": "70d22c17-fe80-4451-ed67-91aeab3c92a6"
      },
      "execution_count": 28,
      "outputs": [
        {
          "output_type": "display_data",
          "data": {
            "text/plain": [
              "<Figure size 1500x1000 with 6 Axes>"
            ],
            "image/png": "[encoded data removed]"
          },
          "metadata": {}
        }
      ]
    },
    {
      "cell_type": "code",
      "source": [
        "# membuat fungsi cek outlier.\n",
        "def cek_outlier(nama_kolom, batas):\n",
        "  Q1 = np.percentile(customer_data[nama_kolom], 25,\n",
        "                     interpolation = 'midpoint')\n",
        "\n",
        "  Q3 = np.percentile(customer_data[nama_kolom], 75,\n",
        "                     interpolation = 'midpoint')\n",
        "\n",
        "  IQR = Q3 - Q1\n",
        "\n",
        "  if batas == 'upper_bound':\n",
        "      bound = np.where(customer_data[nama_kolom] >= (Q3 + 1.5 * IQR))\n",
        "  elif batas == 'lower_bound':\n",
        "      bound = np.where(customer_data[nama_kolom] <= (Q1 - 1.5 * IQR))\n",
        "  return list(bound[0])"
      ],
      "metadata": {
        "id": "-kVrZAnku1wd"
      },
      "execution_count": 29,
      "outputs": []
    },
    {
      "cell_type": "code",
      "source": [
        "# Jumlah outliers kolom Income\n",
        "upper_Income = cek_outlier('Income','upper_bound')\n",
        "lower_Income = cek_outlier('Income','lower_bound')\n",
        "print(f\"Jumlah total outlier kolom Income : {len(upper_Income) + len(lower_Income)}\")\n",
        "#Jumlah outliers kolom Recency\n",
        "upper_Recency = cek_outlier('Recency','upper_bound')\n",
        "lower_Recency = cek_outlier('Recency','lower_bound')\n",
        "print(f\"Jumlah total outlier kolom Recency : {len(upper_Recency) + len(lower_Recency)}\")\n",
        "# Jumlah outliers kolom NumWebPurchases\n",
        "upper_NumWebPurchases = cek_outlier('NumWebPurchases','upper_bound')\n",
        "lower_NumWebPurchases = cek_outlier('NumWebPurchases','lower_bound')\n",
        "print(f\"Jumlah total outlier kolom NumWebPurchases : {len(upper_NumWebPurchases) + len(lower_NumWebPurchases)}\")\n",
        "# Jumlah outliers kolom NumStorePurchases\n",
        "upper_NumStorePurchases = cek_outlier('NumStorePurchases','upper_bound')\n",
        "lower_NumStorePurchases = cek_outlier('NumStorePurchases','lower_bound')\n",
        "print(f\"Jumlah total outlier kolom NumStorePurchases : {len(upper_NumStorePurchases) + len(lower_NumStorePurchases)}\")\n",
        "# Jumlah outliers kolom NumWebVisitsMonth\n",
        "upper_NumWebVisitsMonth = cek_outlier('NumWebVisitsMonth','upper_bound')\n",
        "lower_NumWebVisitsMonth = cek_outlier('NumWebVisitsMonth','lower_bound')\n",
        "print(f\"Jumlah total outlier kolom NumWebVisitsMonth : {len(upper_NumWebVisitsMonth) + len(lower_NumWebVisitsMonth)}\")"
      ],
      "metadata": {
        "colab": {
          "base_uri": "https://localhost:8080/"
        },
        "id": "-jAFNbvJu2LO",
        "outputId": "418f0b2d-fd34-4c50-84d7-a52a6682287d"
      },
      "execution_count": 30,
      "outputs": [
        {
          "output_type": "stream",
          "name": "stdout",
          "text": [
            "Jumlah total outlier kolom Income : 8\n",
            "Jumlah total outlier kolom Recency : 0\n",
            "Jumlah total outlier kolom NumWebPurchases : 3\n",
            "Jumlah total outlier kolom NumStorePurchases : 0\n",
            "Jumlah total outlier kolom NumWebVisitsMonth : 9\n"
          ]
        }
      ]
    },
    {
      "cell_type": "markdown",
      "source": [
        "###Handling Outliers"
      ],
      "metadata": {
        "id": "8bWL57nBQCcg"
      }
    },
    {
      "cell_type": "code",
      "source": [
        "customer_data2 = customer_data.copy()"
      ],
      "metadata": {
        "id": "V7tHupgXvgID"
      },
      "execution_count": 31,
      "outputs": []
    },
    {
      "cell_type": "code",
      "source": [
        "# Buat fungsi untuk filtering outliers\n",
        "def filter_outlier(customer_data2, nama_kolom):\n",
        "    if nama_kolom == 'Income':\n",
        "        data_temp = customer_data2.loc[~customer_data2.index.isin(upper_Income)]\n",
        "        data_temp = data_temp.loc[~data_temp.index.isin(lower_Income)]\n",
        "        return data_temp\n",
        "    if nama_kolom == 'Recency':\n",
        "        data_temp = customer_data2.loc[~customer_data2.index.isin(upper_Recency)]\n",
        "        data_temp = data_temp.loc[~data_temp.index.isin(lower_Recency)]\n",
        "        return data_temp\n",
        "    if nama_kolom == 'NumWebPurchases':\n",
        "        data_temp = customer_data2.loc[~customer_data2.index.isin(upper_NumWebPurchases)]\n",
        "        data_temp = data_temp.loc[~data_temp.index.isin(lower_NumWebPurchases)]\n",
        "        return data_temp\n",
        "    if nama_kolom == 'NumStorePurchases':\n",
        "        data_temp = customer_data2.loc[~customer_data2.index.isin(upper_NumStorePurchases)]\n",
        "        data_temp = data_temp.loc[~data_temp.index.isin(lower_NumStorePurchases)]\n",
        "        return data_temp\n",
        "    if nama_kolom == 'NumWebVisitsMonth':\n",
        "        data_temp = customer_data2.loc[~customer_data2.index.isin(upper_NumWebVisitsMonth)]\n",
        "        data_temp = data_temp.loc[~data_temp.index.isin(lower_NumWebVisitsMonth)]\n",
        "        return data_temp"
      ],
      "metadata": {
        "id": "qXOQEH9CviSl"
      },
      "execution_count": 32,
      "outputs": []
    },
    {
      "cell_type": "code",
      "source": [
        "# Membersihkan outlier untuk kolom 'Income'\n",
        "customer_data2_cleaned = filter_outlier(customer_data2, 'Income')\n",
        "\n",
        "# Membersihkan outlier untuk kolom 'Recency'\n",
        "customer_data2_cleaned = filter_outlier(customer_data2_cleaned, 'Recency')\n",
        "\n",
        "# Membersihkan outlier untuk kolom 'NumWebPurchases'\n",
        "customer_data2_cleaned = filter_outlier(customer_data2_cleaned, 'NumWebPurchases')\n",
        "\n",
        "# Membersihkan outlier untuk kolom 'NumStorePurchases'\n",
        "customer_data2_cleaned = filter_outlier(customer_data2_cleaned, 'NumStorePurchases')\n",
        "\n",
        "# Membersihkan outlier untuk kolom 'NumWebVisitMonth'\n",
        "customer_data2_cleaned = filter_outlier(customer_data2_cleaned, 'NumWebVisitsMonth')"
      ],
      "metadata": {
        "id": "6Alg1BlwvjfI"
      },
      "execution_count": 49,
      "outputs": []
    },
    {
      "cell_type": "code",
      "source": [
        "#Cek 5 baris  pada df2_cleaned\n",
        "customer_data2_cleaned.head()"
      ],
      "metadata": {
        "colab": {
          "base_uri": "https://localhost:8080/",
          "height": 226
        },
        "id": "bCMBk2V8vmg2",
        "outputId": "8aef021a-375e-431d-804d-1b1f744721c9"
      },
      "execution_count": 50,
      "outputs": [
        {
          "output_type": "execute_result",
          "data": {
            "text/plain": [
              "     ID  Year_Birth   Education   Income Dt_Customer  Recency  \\\n",
              "0  5524        1957  Graduation  58138.0  2012-09-04       58   \n",
              "1  2174        1954  Graduation  46344.0  2014-03-08       38   \n",
              "2  4141        1965  Graduation  71613.0  2013-08-21       26   \n",
              "3  6182        1984  Graduation  26646.0  2014-02-10       26   \n",
              "4  5324        1981         PhD  58293.0  2014-01-19       94   \n",
              "\n",
              "   NumWebPurchases  NumStorePurchases  NumWebVisitsMonth  \n",
              "0                8                  4                  7  \n",
              "1                1                  2                  5  \n",
              "2                8                 10                  4  \n",
              "3                2                  4                  6  \n",
              "4                5                  6                  5  "
            ],
            "text/html": [
              "\n",
              "  <div id=\"df-ee64b43f-6132-4d44-835a-3955d9bbff9c\" class=\"colab-df-container\">\n",
              "    <div>\n",
              "<style scoped>\n",
              "    .dataframe tbody tr th:only-of-type {\n",
              "        vertical-align: middle;\n",
              "    }\n",
              "\n",
              "    .dataframe tbody tr th {\n",
              "        vertical-align: top;\n",
              "    }\n",
              "\n",
              "    .dataframe thead th {\n",
              "        text-align: right;\n",
              "    }\n",
              "</style>\n",
              "<table border=\"1\" class=\"dataframe\">\n",
              "  <thead>\n",
              "    <tr style=\"text-align: right;\">\n",
              "      <th></th>\n",
              "      <th>ID</th>\n",
              "      <th>Year_Birth</th>\n",
              "      <th>Education</th>\n",
              "      <th>Income</th>\n",
              "      <th>Dt_Customer</th>\n",
              "      <th>Recency</th>\n",
              "      <th>NumWebPurchases</th>\n",
              "      <th>NumStorePurchases</th>\n",
              "      <th>NumWebVisitsMonth</th>\n",
              "    </tr>\n",
              "  </thead>\n",
              "  <tbody>\n",
              "    <tr>\n",
              "      <th>0</th>\n",
              "      <td>5524</td>\n",
              "      <td>1957</td>\n",
              "      <td>Graduation</td>\n",
              "      <td>58138.0</td>\n",
              "      <td>2012-09-04</td>\n",
              "      <td>58</td>\n",
              "      <td>8</td>\n",
              "      <td>4</td>\n",
              "      <td>7</td>\n",
              "    </tr>\n",
              "    <tr>\n",
              "      <th>1</th>\n",
              "      <td>2174</td>\n",
              "      <td>1954</td>\n",
              "      <td>Graduation</td>\n",
              "      <td>46344.0</td>\n",
              "      <td>2014-03-08</td>\n",
              "      <td>38</td>\n",
              "      <td>1</td>\n",
              "      <td>2</td>\n",
              "      <td>5</td>\n",
              "    </tr>\n",
              "    <tr>\n",
              "      <th>2</th>\n",
              "      <td>4141</td>\n",
              "      <td>1965</td>\n",
              "      <td>Graduation</td>\n",
              "      <td>71613.0</td>\n",
              "      <td>2013-08-21</td>\n",
              "      <td>26</td>\n",
              "      <td>8</td>\n",
              "      <td>10</td>\n",
              "      <td>4</td>\n",
              "    </tr>\n",
              "    <tr>\n",
              "      <th>3</th>\n",
              "      <td>6182</td>\n",
              "      <td>1984</td>\n",
              "      <td>Graduation</td>\n",
              "      <td>26646.0</td>\n",
              "      <td>2014-02-10</td>\n",
              "      <td>26</td>\n",
              "      <td>2</td>\n",
              "      <td>4</td>\n",
              "      <td>6</td>\n",
              "    </tr>\n",
              "    <tr>\n",
              "      <th>4</th>\n",
              "      <td>5324</td>\n",
              "      <td>1981</td>\n",
              "      <td>PhD</td>\n",
              "      <td>58293.0</td>\n",
              "      <td>2014-01-19</td>\n",
              "      <td>94</td>\n",
              "      <td>5</td>\n",
              "      <td>6</td>\n",
              "      <td>5</td>\n",
              "    </tr>\n",
              "  </tbody>\n",
              "</table>\n",
              "</div>\n",
              "    <div class=\"colab-df-buttons\">\n",
              "\n",
              "  <div class=\"colab-df-container\">\n",
              "    <button class=\"colab-df-convert\" onclick=\"convertToInteractive('df-ee64b43f-6132-4d44-835a-3955d9bbff9c')\"\n",
              "            title=\"Convert this dataframe to an interactive table.\"\n",
              "            style=\"display:none;\">\n",
              "\n",
              "  <svg xmlns=\"http://www.w3.org/2000/svg\" height=\"24px\" viewBox=\"0 -960 960 960\">\n",
              "    <path d=\"M120-120v-720h720v720H120Zm60-500h600v-160H180v160Zm220 220h160v-160H400v160Zm0 220h160v-160H400v160ZM180-400h160v-160H180v160Zm440 0h160v-160H620v160ZM180-180h160v-160H180v160Zm440 0h160v-160H620v160Z\"/>\n",
              "  </svg>\n",
              "    </button>\n",
              "\n",
              "  <style>\n",
              "    .colab-df-container {\n",
              "      display:flex;\n",
              "      gap: 12px;\n",
              "    }\n",
              "\n",
              "    .colab-df-convert {\n",
              "      background-color: #E8F0FE;\n",
              "      border: none;\n",
              "      border-radius: 50%;\n",
              "      cursor: pointer;\n",
              "      display: none;\n",
              "      fill: #1967D2;\n",
              "      height: 32px;\n",
              "      padding: 0 0 0 0;\n",
              "      width: 32px;\n",
              "    }\n",
              "\n",
              "    .colab-df-convert:hover {\n",
              "      background-color: #E2EBFA;\n",
              "      box-shadow: 0px 1px 2px rgba(60, 64, 67, 0.3), 0px 1px 3px 1px rgba(60, 64, 67, 0.15);\n",
              "      fill: #174EA6;\n",
              "    }\n",
              "\n",
              "    .colab-df-buttons div {\n",
              "      margin-bottom: 4px;\n",
              "    }\n",
              "\n",
              "    [theme=dark] .colab-df-convert {\n",
              "      background-color: #3B4455;\n",
              "      fill: #D2E3FC;\n",
              "    }\n",
              "\n",
              "    [theme=dark] .colab-df-convert:hover {\n",
              "      background-color: #434B5C;\n",
              "      box-shadow: 0px 1px 3px 1px rgba(0, 0, 0, 0.15);\n",
              "      filter: drop-shadow(0px 1px 2px rgba(0, 0, 0, 0.3));\n",
              "      fill: #FFFFFF;\n",
              "    }\n",
              "  </style>\n",
              "\n",
              "    <script>\n",
              "      const buttonEl =\n",
              "        document.querySelector('#df-ee64b43f-6132-4d44-835a-3955d9bbff9c button.colab-df-convert');\n",
              "      buttonEl.style.display =\n",
              "        google.colab.kernel.accessAllowed ? 'block' : 'none';\n",
              "\n",
              "      async function convertToInteractive(key) {\n",
              "        const element = document.querySelector('#df-ee64b43f-6132-4d44-835a-3955d9bbff9c');\n",
              "        const dataTable =\n",
              "          await google.colab.kernel.invokeFunction('convertToInteractive',\n",
              "                                                    [key], {});\n",
              "        if (!dataTable) return;\n",
              "\n",
              "        const docLinkHtml = 'Like what you see? Visit the ' +\n",
              "          '<a target=\"_blank\" href=https://colab.research.google.com/notebooks/data_table.ipynb>data table notebook</a>'\n",
              "          + ' to learn more about interactive tables.';\n",
              "        element.innerHTML = '';\n",
              "        dataTable['output_type'] = 'display_data';\n",
              "        await google.colab.output.renderOutput(dataTable, element);\n",
              "        const docLink = document.createElement('div');\n",
              "        docLink.innerHTML = docLinkHtml;\n",
              "        element.appendChild(docLink);\n",
              "      }\n",
              "    </script>\n",
              "  </div>\n",
              "\n",
              "\n",
              "<div id=\"df-c595b9a8-c845-41fc-8daa-b13e6c5dc7d4\">\n",
              "  <button class=\"colab-df-quickchart\" onclick=\"quickchart('df-c595b9a8-c845-41fc-8daa-b13e6c5dc7d4')\"\n",
              "            title=\"Suggest charts\"\n",
              "            style=\"display:none;\">\n",
              "\n",
              "<svg xmlns=\"http://www.w3.org/2000/svg\" height=\"24px\"viewBox=\"0 0 24 24\"\n",
              "     width=\"24px\">\n",
              "    <g>\n",
              "        <path d=\"M19 3H5c-1.1 0-2 .9-2 2v14c0 1.1.9 2 2 2h14c1.1 0 2-.9 2-2V5c0-1.1-.9-2-2-2zM9 17H7v-7h2v7zm4 0h-2V7h2v10zm4 0h-2v-4h2v4z\"/>\n",
              "    </g>\n",
              "</svg>\n",
              "  </button>\n",
              "\n",
              "<style>\n",
              "  .colab-df-quickchart {\n",
              "      --bg-color: #E8F0FE;\n",
              "      --fill-color: #1967D2;\n",
              "      --hover-bg-color: #E2EBFA;\n",
              "      --hover-fill-color: #174EA6;\n",
              "      --disabled-fill-color: #AAA;\n",
              "      --disabled-bg-color: #DDD;\n",
              "  }\n",
              "\n",
              "  [theme=dark] .colab-df-quickchart {\n",
              "      --bg-color: #3B4455;\n",
              "      --fill-color: #D2E3FC;\n",
              "      --hover-bg-color: #434B5C;\n",
              "      --hover-fill-color: #FFFFFF;\n",
              "      --disabled-bg-color: #3B4455;\n",
              "      --disabled-fill-color: #666;\n",
              "  }\n",
              "\n",
              "  .colab-df-quickchart {\n",
              "    background-color: var(--bg-color);\n",
              "    border: none;\n",
              "    border-radius: 50%;\n",
              "    cursor: pointer;\n",
              "    display: none;\n",
              "    fill: var(--fill-color);\n",
              "    height: 32px;\n",
              "    padding: 0;\n",
              "    width: 32px;\n",
              "  }\n",
              "\n",
              "  .colab-df-quickchart:hover {\n",
              "    background-color: var(--hover-bg-color);\n",
              "    box-shadow: 0 1px 2px rgba(60, 64, 67, 0.3), 0 1px 3px 1px rgba(60, 64, 67, 0.15);\n",
              "    fill: var(--button-hover-fill-color);\n",
              "  }\n",
              "\n",
              "  .colab-df-quickchart-complete:disabled,\n",
              "  .colab-df-quickchart-complete:disabled:hover {\n",
              "    background-color: var(--disabled-bg-color);\n",
              "    fill: var(--disabled-fill-color);\n",
              "    box-shadow: none;\n",
              "  }\n",
              "\n",
              "  .colab-df-spinner {\n",
              "    border: 2px solid var(--fill-color);\n",
              "    border-color: transparent;\n",
              "    border-bottom-color: var(--fill-color);\n",
              "    animation:\n",
              "      spin 1s steps(1) infinite;\n",
              "  }\n",
              "\n",
              "  @keyframes spin {\n",
              "    0% {\n",
              "      border-color: transparent;\n",
              "      border-bottom-color: var(--fill-color);\n",
              "      border-left-color: var(--fill-color);\n",
              "    }\n",
              "    20% {\n",
              "      border-color: transparent;\n",
              "      border-left-color: var(--fill-color);\n",
              "      border-top-color: var(--fill-color);\n",
              "    }\n",
              "    30% {\n",
              "      border-color: transparent;\n",
              "      border-left-color: var(--fill-color);\n",
              "      border-top-color: var(--fill-color);\n",
              "      border-right-color: var(--fill-color);\n",
              "    }\n",
              "    40% {\n",
              "      border-color: transparent;\n",
              "      border-right-color: var(--fill-color);\n",
              "      border-top-color: var(--fill-color);\n",
              "    }\n",
              "    60% {\n",
              "      border-color: transparent;\n",
              "      border-right-color: var(--fill-color);\n",
              "    }\n",
              "    80% {\n",
              "      border-color: transparent;\n",
              "      border-right-color: var(--fill-color);\n",
              "      border-bottom-color: var(--fill-color);\n",
              "    }\n",
              "    90% {\n",
              "      border-color: transparent;\n",
              "      border-bottom-color: var(--fill-color);\n",
              "    }\n",
              "  }\n",
              "</style>\n",
              "\n",
              "  <script>\n",
              "    async function quickchart(key) {\n",
              "      const quickchartButtonEl =\n",
              "        document.querySelector('#' + key + ' button');\n",
              "      quickchartButtonEl.disabled = true;  // To prevent multiple clicks.\n",
              "      quickchartButtonEl.classList.add('colab-df-spinner');\n",
              "      try {\n",
              "        const charts = await google.colab.kernel.invokeFunction(\n",
              "            'suggestCharts', [key], {});\n",
              "      } catch (error) {\n",
              "        console.error('Error during call to suggestCharts:', error);\n",
              "      }\n",
              "      quickchartButtonEl.classList.remove('colab-df-spinner');\n",
              "      quickchartButtonEl.classList.add('colab-df-quickchart-complete');\n",
              "    }\n",
              "    (() => {\n",
              "      let quickchartButtonEl =\n",
              "        document.querySelector('#df-c595b9a8-c845-41fc-8daa-b13e6c5dc7d4 button');\n",
              "      quickchartButtonEl.style.display =\n",
              "        google.colab.kernel.accessAllowed ? 'block' : 'none';\n",
              "    })();\n",
              "  </script>\n",
              "</div>\n",
              "\n",
              "    </div>\n",
              "  </div>\n"
            ],
            "application/vnd.google.colaboratory.intrinsic+json": {
              "type": "dataframe",
              "variable_name": "customer_data2_cleaned",
              "summary": "{\n  \"name\": \"customer_data2_cleaned\",\n  \"rows\": 2196,\n  \"fields\": [\n    {\n      \"column\": \"ID\",\n      \"properties\": {\n        \"dtype\": \"number\",\n        \"std\": 3251,\n        \"min\": 0,\n        \"max\": 11191,\n        \"num_unique_values\": 2196,\n        \"samples\": [\n          5029,\n          2831,\n          6878\n        ],\n        \"semantic_type\": \"\",\n        \"description\": \"\"\n      }\n    },\n    {\n      \"column\": \"Year_Birth\",\n      \"properties\": {\n        \"dtype\": \"number\",\n        \"std\": 12,\n        \"min\": 1893,\n        \"max\": 1996,\n        \"num_unique_values\": 59,\n        \"samples\": [\n          1957,\n          1967,\n          1948\n        ],\n        \"semantic_type\": \"\",\n        \"description\": \"\"\n      }\n    },\n    {\n      \"column\": \"Education\",\n      \"properties\": {\n        \"dtype\": \"category\",\n        \"num_unique_values\": 5,\n        \"samples\": [\n          \"PhD\",\n          \"2n Cycle\",\n          \"Master\"\n        ],\n        \"semantic_type\": \"\",\n        \"description\": \"\"\n      }\n    },\n    {\n      \"column\": \"Income\",\n      \"properties\": {\n        \"dtype\": \"number\",\n        \"std\": 25199.41662712732,\n        \"min\": 1730.0,\n        \"max\": 666666.0,\n        \"num_unique_values\": 1959,\n        \"samples\": [\n          59062.0,\n          45006.0,\n          83151.0\n        ],\n        \"semantic_type\": \"\",\n        \"description\": \"\"\n      }\n    },\n    {\n      \"column\": \"Dt_Customer\",\n      \"properties\": {\n        \"dtype\": \"date\",\n        \"min\": \"2012-07-30 00:00:00\",\n        \"max\": \"2014-06-29 00:00:00\",\n        \"num_unique_values\": 660,\n        \"samples\": [\n          \"2012-12-17 00:00:00\",\n          \"2013-08-09 00:00:00\",\n          \"2014-01-30 00:00:00\"\n        ],\n        \"semantic_type\": \"\",\n        \"description\": \"\"\n      }\n    },\n    {\n      \"column\": \"Recency\",\n      \"properties\": {\n        \"dtype\": \"number\",\n        \"std\": 28,\n        \"min\": 0,\n        \"max\": 99,\n        \"num_unique_values\": 100,\n        \"samples\": [\n          80,\n          48,\n          10\n        ],\n        \"semantic_type\": \"\",\n        \"description\": \"\"\n      }\n    },\n    {\n      \"column\": \"NumWebPurchases\",\n      \"properties\": {\n        \"dtype\": \"number\",\n        \"std\": 2,\n        \"min\": 0,\n        \"max\": 27,\n        \"num_unique_values\": 15,\n        \"samples\": [\n          0,\n          9,\n          8\n        ],\n        \"semantic_type\": \"\",\n        \"description\": \"\"\n      }\n    },\n    {\n      \"column\": \"NumStorePurchases\",\n      \"properties\": {\n        \"dtype\": \"number\",\n        \"std\": 3,\n        \"min\": 0,\n        \"max\": 13,\n        \"num_unique_values\": 14,\n        \"samples\": [\n          9,\n          13,\n          4\n        ],\n        \"semantic_type\": \"\",\n        \"description\": \"\"\n      }\n    },\n    {\n      \"column\": \"NumWebVisitsMonth\",\n      \"properties\": {\n        \"dtype\": \"number\",\n        \"std\": 2,\n        \"min\": 0,\n        \"max\": 20,\n        \"num_unique_values\": 16,\n        \"samples\": [\n          7,\n          5,\n          9\n        ],\n        \"semantic_type\": \"\",\n        \"description\": \"\"\n      }\n    }\n  ]\n}"
            }
          },
          "metadata": {},
          "execution_count": 50
        }
      ]
    },
    {
      "cell_type": "code",
      "source": [
        "customer_data.shape"
      ],
      "metadata": {
        "colab": {
          "base_uri": "https://localhost:8080/"
        },
        "id": "UrUK_b3Ivn-L",
        "outputId": "1e91bf3d-6f0f-49da-e987-259cfee50019"
      },
      "execution_count": 37,
      "outputs": [
        {
          "output_type": "execute_result",
          "data": {
            "text/plain": [
              "(2216, 9)"
            ]
          },
          "metadata": {},
          "execution_count": 37
        }
      ]
    },
    {
      "cell_type": "code",
      "source": [
        "customer_data2_cleaned.shape"
      ],
      "metadata": {
        "colab": {
          "base_uri": "https://localhost:8080/"
        },
        "id": "3DyoA9xPvpp9",
        "outputId": "a8e95910-76b9-4982-ee51-c84ba6ffb1f4"
      },
      "execution_count": 51,
      "outputs": [
        {
          "output_type": "execute_result",
          "data": {
            "text/plain": [
              "(2196, 9)"
            ]
          },
          "metadata": {},
          "execution_count": 51
        }
      ]
    },
    {
      "cell_type": "markdown",
      "source": [
        "###Label Encoding"
      ],
      "metadata": {
        "id": "CERP3T-kQFI_"
      }
    },
    {
      "cell_type": "code",
      "source": [
        "customer_data2_cleaned.info()"
      ],
      "metadata": {
        "colab": {
          "base_uri": "https://localhost:8080/"
        },
        "id": "1UfpK0mB1SF0",
        "outputId": "ccf86be2-cef0-4d64-d593-a489bedacaf1"
      },
      "execution_count": 39,
      "outputs": [
        {
          "output_type": "stream",
          "name": "stdout",
          "text": [
            "<class 'pandas.core.frame.DataFrame'>\n",
            "Index: 2205 entries, 0 to 2239\n",
            "Data columns (total 9 columns):\n",
            " #   Column             Non-Null Count  Dtype         \n",
            "---  ------             --------------  -----         \n",
            " 0   ID                 2205 non-null   int64         \n",
            " 1   Year_Birth         2205 non-null   int64         \n",
            " 2   Education          2205 non-null   object        \n",
            " 3   Income             2205 non-null   float64       \n",
            " 4   Dt_Customer        2205 non-null   datetime64[ns]\n",
            " 5   Recency            2205 non-null   int64         \n",
            " 6   NumWebPurchases    2205 non-null   int64         \n",
            " 7   NumStorePurchases  2205 non-null   int64         \n",
            " 8   NumWebVisitsMonth  2205 non-null   int64         \n",
            "dtypes: datetime64[ns](1), float64(1), int64(6), object(1)\n",
            "memory usage: 172.3+ KB\n"
          ]
        }
      ]
    },
    {
      "cell_type": "code",
      "source": [
        "cat_columns = ['Education']\n",
        "for col in cat_columns:\n",
        "    customer_data2_cleaned[col] = customer_data2_cleaned[col].astype('category').cat.codes\n",
        "\n",
        "customer_data2_cleaned.head()"
      ],
      "metadata": {
        "colab": {
          "base_uri": "https://localhost:8080/",
          "height": 226
        },
        "id": "mYd0nqVE1SfJ",
        "outputId": "c1e274cc-6110-4208-95a0-ab191b8fd56c"
      },
      "execution_count": 59,
      "outputs": [
        {
          "output_type": "execute_result",
          "data": {
            "text/plain": [
              "     ID  Year_Birth  Education   Income Dt_Customer  Recency  NumWebPurchases  \\\n",
              "0  5524        1957          2  58138.0  2012-09-04       58                8   \n",
              "1  2174        1954          2  46344.0  2014-03-08       38                1   \n",
              "2  4141        1965          2  71613.0  2013-08-21       26                8   \n",
              "3  6182        1984          2  26646.0  2014-02-10       26                2   \n",
              "4  5324        1981          4  58293.0  2014-01-19       94                5   \n",
              "\n",
              "   NumStorePurchases  NumWebVisitsMonth  \n",
              "0                  4                  7  \n",
              "1                  2                  5  \n",
              "2                 10                  4  \n",
              "3                  4                  6  \n",
              "4                  6                  5  "
            ],
            "text/html": [
              "\n",
              "  <div id=\"df-75688fe9-f53d-408f-a15e-ef1ba94de6dc\" class=\"colab-df-container\">\n",
              "    <div>\n",
              "<style scoped>\n",
              "    .dataframe tbody tr th:only-of-type {\n",
              "        vertical-align: middle;\n",
              "    }\n",
              "\n",
              "    .dataframe tbody tr th {\n",
              "        vertical-align: top;\n",
              "    }\n",
              "\n",
              "    .dataframe thead th {\n",
              "        text-align: right;\n",
              "    }\n",
              "</style>\n",
              "<table border=\"1\" class=\"dataframe\">\n",
              "  <thead>\n",
              "    <tr style=\"text-align: right;\">\n",
              "      <th></th>\n",
              "      <th>ID</th>\n",
              "      <th>Year_Birth</th>\n",
              "      <th>Education</th>\n",
              "      <th>Income</th>\n",
              "      <th>Dt_Customer</th>\n",
              "      <th>Recency</th>\n",
              "      <th>NumWebPurchases</th>\n",
              "      <th>NumStorePurchases</th>\n",
              "      <th>NumWebVisitsMonth</th>\n",
              "    </tr>\n",
              "  </thead>\n",
              "  <tbody>\n",
              "    <tr>\n",
              "      <th>0</th>\n",
              "      <td>5524</td>\n",
              "      <td>1957</td>\n",
              "      <td>2</td>\n",
              "      <td>58138.0</td>\n",
              "      <td>2012-09-04</td>\n",
              "      <td>58</td>\n",
              "      <td>8</td>\n",
              "      <td>4</td>\n",
              "      <td>7</td>\n",
              "    </tr>\n",
              "    <tr>\n",
              "      <th>1</th>\n",
              "      <td>2174</td>\n",
              "      <td>1954</td>\n",
              "      <td>2</td>\n",
              "      <td>46344.0</td>\n",
              "      <td>2014-03-08</td>\n",
              "      <td>38</td>\n",
              "      <td>1</td>\n",
              "      <td>2</td>\n",
              "      <td>5</td>\n",
              "    </tr>\n",
              "    <tr>\n",
              "      <th>2</th>\n",
              "      <td>4141</td>\n",
              "      <td>1965</td>\n",
              "      <td>2</td>\n",
              "      <td>71613.0</td>\n",
              "      <td>2013-08-21</td>\n",
              "      <td>26</td>\n",
              "      <td>8</td>\n",
              "      <td>10</td>\n",
              "      <td>4</td>\n",
              "    </tr>\n",
              "    <tr>\n",
              "      <th>3</th>\n",
              "      <td>6182</td>\n",
              "      <td>1984</td>\n",
              "      <td>2</td>\n",
              "      <td>26646.0</td>\n",
              "      <td>2014-02-10</td>\n",
              "      <td>26</td>\n",
              "      <td>2</td>\n",
              "      <td>4</td>\n",
              "      <td>6</td>\n",
              "    </tr>\n",
              "    <tr>\n",
              "      <th>4</th>\n",
              "      <td>5324</td>\n",
              "      <td>1981</td>\n",
              "      <td>4</td>\n",
              "      <td>58293.0</td>\n",
              "      <td>2014-01-19</td>\n",
              "      <td>94</td>\n",
              "      <td>5</td>\n",
              "      <td>6</td>\n",
              "      <td>5</td>\n",
              "    </tr>\n",
              "  </tbody>\n",
              "</table>\n",
              "</div>\n",
              "    <div class=\"colab-df-buttons\">\n",
              "\n",
              "  <div class=\"colab-df-container\">\n",
              "    <button class=\"colab-df-convert\" onclick=\"convertToInteractive('df-75688fe9-f53d-408f-a15e-ef1ba94de6dc')\"\n",
              "            title=\"Convert this dataframe to an interactive table.\"\n",
              "            style=\"display:none;\">\n",
              "\n",
              "  <svg xmlns=\"http://www.w3.org/2000/svg\" height=\"24px\" viewBox=\"0 -960 960 960\">\n",
              "    <path d=\"M120-120v-720h720v720H120Zm60-500h600v-160H180v160Zm220 220h160v-160H400v160Zm0 220h160v-160H400v160ZM180-400h160v-160H180v160Zm440 0h160v-160H620v160ZM180-180h160v-160H180v160Zm440 0h160v-160H620v160Z\"/>\n",
              "  </svg>\n",
              "    </button>\n",
              "\n",
              "  <style>\n",
              "    .colab-df-container {\n",
              "      display:flex;\n",
              "      gap: 12px;\n",
              "    }\n",
              "\n",
              "    .colab-df-convert {\n",
              "      background-color: #E8F0FE;\n",
              "      border: none;\n",
              "      border-radius: 50%;\n",
              "      cursor: pointer;\n",
              "      display: none;\n",
              "      fill: #1967D2;\n",
              "      height: 32px;\n",
              "      padding: 0 0 0 0;\n",
              "      width: 32px;\n",
              "    }\n",
              "\n",
              "    .colab-df-convert:hover {\n",
              "      background-color: #E2EBFA;\n",
              "      box-shadow: 0px 1px 2px rgba(60, 64, 67, 0.3), 0px 1px 3px 1px rgba(60, 64, 67, 0.15);\n",
              "      fill: #174EA6;\n",
              "    }\n",
              "\n",
              "    .colab-df-buttons div {\n",
              "      margin-bottom: 4px;\n",
              "    }\n",
              "\n",
              "    [theme=dark] .colab-df-convert {\n",
              "      background-color: #3B4455;\n",
              "      fill: #D2E3FC;\n",
              "    }\n",
              "\n",
              "    [theme=dark] .colab-df-convert:hover {\n",
              "      background-color: #434B5C;\n",
              "      box-shadow: 0px 1px 3px 1px rgba(0, 0, 0, 0.15);\n",
              "      filter: drop-shadow(0px 1px 2px rgba(0, 0, 0, 0.3));\n",
              "      fill: #FFFFFF;\n",
              "    }\n",
              "  </style>\n",
              "\n",
              "    <script>\n",
              "      const buttonEl =\n",
              "        document.querySelector('#df-75688fe9-f53d-408f-a15e-ef1ba94de6dc button.colab-df-convert');\n",
              "      buttonEl.style.display =\n",
              "        google.colab.kernel.accessAllowed ? 'block' : 'none';\n",
              "\n",
              "      async function convertToInteractive(key) {\n",
              "        const element = document.querySelector('#df-75688fe9-f53d-408f-a15e-ef1ba94de6dc');\n",
              "        const dataTable =\n",
              "          await google.colab.kernel.invokeFunction('convertToInteractive',\n",
              "                                                    [key], {});\n",
              "        if (!dataTable) return;\n",
              "\n",
              "        const docLinkHtml = 'Like what you see? Visit the ' +\n",
              "          '<a target=\"_blank\" href=https://colab.research.google.com/notebooks/data_table.ipynb>data table notebook</a>'\n",
              "          + ' to learn more about interactive tables.';\n",
              "        element.innerHTML = '';\n",
              "        dataTable['output_type'] = 'display_data';\n",
              "        await google.colab.output.renderOutput(dataTable, element);\n",
              "        const docLink = document.createElement('div');\n",
              "        docLink.innerHTML = docLinkHtml;\n",
              "        element.appendChild(docLink);\n",
              "      }\n",
              "    </script>\n",
              "  </div>\n",
              "\n",
              "\n",
              "<div id=\"df-f9b82d31-74c8-477e-9460-ecaaf2a56b78\">\n",
              "  <button class=\"colab-df-quickchart\" onclick=\"quickchart('df-f9b82d31-74c8-477e-9460-ecaaf2a56b78')\"\n",
              "            title=\"Suggest charts\"\n",
              "            style=\"display:none;\">\n",
              "\n",
              "<svg xmlns=\"http://www.w3.org/2000/svg\" height=\"24px\"viewBox=\"0 0 24 24\"\n",
              "     width=\"24px\">\n",
              "    <g>\n",
              "        <path d=\"M19 3H5c-1.1 0-2 .9-2 2v14c0 1.1.9 2 2 2h14c1.1 0 2-.9 2-2V5c0-1.1-.9-2-2-2zM9 17H7v-7h2v7zm4 0h-2V7h2v10zm4 0h-2v-4h2v4z\"/>\n",
              "    </g>\n",
              "</svg>\n",
              "  </button>\n",
              "\n",
              "<style>\n",
              "  .colab-df-quickchart {\n",
              "      --bg-color: #E8F0FE;\n",
              "      --fill-color: #1967D2;\n",
              "      --hover-bg-color: #E2EBFA;\n",
              "      --hover-fill-color: #174EA6;\n",
              "      --disabled-fill-color: #AAA;\n",
              "      --disabled-bg-color: #DDD;\n",
              "  }\n",
              "\n",
              "  [theme=dark] .colab-df-quickchart {\n",
              "      --bg-color: #3B4455;\n",
              "      --fill-color: #D2E3FC;\n",
              "      --hover-bg-color: #434B5C;\n",
              "      --hover-fill-color: #FFFFFF;\n",
              "      --disabled-bg-color: #3B4455;\n",
              "      --disabled-fill-color: #666;\n",
              "  }\n",
              "\n",
              "  .colab-df-quickchart {\n",
              "    background-color: var(--bg-color);\n",
              "    border: none;\n",
              "    border-radius: 50%;\n",
              "    cursor: pointer;\n",
              "    display: none;\n",
              "    fill: var(--fill-color);\n",
              "    height: 32px;\n",
              "    padding: 0;\n",
              "    width: 32px;\n",
              "  }\n",
              "\n",
              "  .colab-df-quickchart:hover {\n",
              "    background-color: var(--hover-bg-color);\n",
              "    box-shadow: 0 1px 2px rgba(60, 64, 67, 0.3), 0 1px 3px 1px rgba(60, 64, 67, 0.15);\n",
              "    fill: var(--button-hover-fill-color);\n",
              "  }\n",
              "\n",
              "  .colab-df-quickchart-complete:disabled,\n",
              "  .colab-df-quickchart-complete:disabled:hover {\n",
              "    background-color: var(--disabled-bg-color);\n",
              "    fill: var(--disabled-fill-color);\n",
              "    box-shadow: none;\n",
              "  }\n",
              "\n",
              "  .colab-df-spinner {\n",
              "    border: 2px solid var(--fill-color);\n",
              "    border-color: transparent;\n",
              "    border-bottom-color: var(--fill-color);\n",
              "    animation:\n",
              "      spin 1s steps(1) infinite;\n",
              "  }\n",
              "\n",
              "  @keyframes spin {\n",
              "    0% {\n",
              "      border-color: transparent;\n",
              "      border-bottom-color: var(--fill-color);\n",
              "      border-left-color: var(--fill-color);\n",
              "    }\n",
              "    20% {\n",
              "      border-color: transparent;\n",
              "      border-left-color: var(--fill-color);\n",
              "      border-top-color: var(--fill-color);\n",
              "    }\n",
              "    30% {\n",
              "      border-color: transparent;\n",
              "      border-left-color: var(--fill-color);\n",
              "      border-top-color: var(--fill-color);\n",
              "      border-right-color: var(--fill-color);\n",
              "    }\n",
              "    40% {\n",
              "      border-color: transparent;\n",
              "      border-right-color: var(--fill-color);\n",
              "      border-top-color: var(--fill-color);\n",
              "    }\n",
              "    60% {\n",
              "      border-color: transparent;\n",
              "      border-right-color: var(--fill-color);\n",
              "    }\n",
              "    80% {\n",
              "      border-color: transparent;\n",
              "      border-right-color: var(--fill-color);\n",
              "      border-bottom-color: var(--fill-color);\n",
              "    }\n",
              "    90% {\n",
              "      border-color: transparent;\n",
              "      border-bottom-color: var(--fill-color);\n",
              "    }\n",
              "  }\n",
              "</style>\n",
              "\n",
              "  <script>\n",
              "    async function quickchart(key) {\n",
              "      const quickchartButtonEl =\n",
              "        document.querySelector('#' + key + ' button');\n",
              "      quickchartButtonEl.disabled = true;  // To prevent multiple clicks.\n",
              "      quickchartButtonEl.classList.add('colab-df-spinner');\n",
              "      try {\n",
              "        const charts = await google.colab.kernel.invokeFunction(\n",
              "            'suggestCharts', [key], {});\n",
              "      } catch (error) {\n",
              "        console.error('Error during call to suggestCharts:', error);\n",
              "      }\n",
              "      quickchartButtonEl.classList.remove('colab-df-spinner');\n",
              "      quickchartButtonEl.classList.add('colab-df-quickchart-complete');\n",
              "    }\n",
              "    (() => {\n",
              "      let quickchartButtonEl =\n",
              "        document.querySelector('#df-f9b82d31-74c8-477e-9460-ecaaf2a56b78 button');\n",
              "      quickchartButtonEl.style.display =\n",
              "        google.colab.kernel.accessAllowed ? 'block' : 'none';\n",
              "    })();\n",
              "  </script>\n",
              "</div>\n",
              "\n",
              "    </div>\n",
              "  </div>\n"
            ],
            "application/vnd.google.colaboratory.intrinsic+json": {
              "type": "dataframe",
              "variable_name": "customer_data2_cleaned",
              "summary": "{\n  \"name\": \"customer_data2_cleaned\",\n  \"rows\": 2196,\n  \"fields\": [\n    {\n      \"column\": \"ID\",\n      \"properties\": {\n        \"dtype\": \"number\",\n        \"std\": 3251,\n        \"min\": 0,\n        \"max\": 11191,\n        \"num_unique_values\": 2196,\n        \"samples\": [\n          5029,\n          2831,\n          6878\n        ],\n        \"semantic_type\": \"\",\n        \"description\": \"\"\n      }\n    },\n    {\n      \"column\": \"Year_Birth\",\n      \"properties\": {\n        \"dtype\": \"number\",\n        \"std\": 12,\n        \"min\": 1893,\n        \"max\": 1996,\n        \"num_unique_values\": 59,\n        \"samples\": [\n          1957,\n          1967,\n          1948\n        ],\n        \"semantic_type\": \"\",\n        \"description\": \"\"\n      }\n    },\n    {\n      \"column\": \"Education\",\n      \"properties\": {\n        \"dtype\": \"int8\",\n        \"num_unique_values\": 5,\n        \"samples\": [\n          4,\n          0,\n          3\n        ],\n        \"semantic_type\": \"\",\n        \"description\": \"\"\n      }\n    },\n    {\n      \"column\": \"Income\",\n      \"properties\": {\n        \"dtype\": \"number\",\n        \"std\": 25199.41662712732,\n        \"min\": 1730.0,\n        \"max\": 666666.0,\n        \"num_unique_values\": 1959,\n        \"samples\": [\n          59062.0,\n          45006.0,\n          83151.0\n        ],\n        \"semantic_type\": \"\",\n        \"description\": \"\"\n      }\n    },\n    {\n      \"column\": \"Dt_Customer\",\n      \"properties\": {\n        \"dtype\": \"date\",\n        \"min\": \"2012-07-30 00:00:00\",\n        \"max\": \"2014-06-29 00:00:00\",\n        \"num_unique_values\": 660,\n        \"samples\": [\n          \"2012-12-17 00:00:00\",\n          \"2013-08-09 00:00:00\",\n          \"2014-01-30 00:00:00\"\n        ],\n        \"semantic_type\": \"\",\n        \"description\": \"\"\n      }\n    },\n    {\n      \"column\": \"Recency\",\n      \"properties\": {\n        \"dtype\": \"number\",\n        \"std\": 28,\n        \"min\": 0,\n        \"max\": 99,\n        \"num_unique_values\": 100,\n        \"samples\": [\n          80,\n          48,\n          10\n        ],\n        \"semantic_type\": \"\",\n        \"description\": \"\"\n      }\n    },\n    {\n      \"column\": \"NumWebPurchases\",\n      \"properties\": {\n        \"dtype\": \"number\",\n        \"std\": 2,\n        \"min\": 0,\n        \"max\": 27,\n        \"num_unique_values\": 15,\n        \"samples\": [\n          0,\n          9,\n          8\n        ],\n        \"semantic_type\": \"\",\n        \"description\": \"\"\n      }\n    },\n    {\n      \"column\": \"NumStorePurchases\",\n      \"properties\": {\n        \"dtype\": \"number\",\n        \"std\": 3,\n        \"min\": 0,\n        \"max\": 13,\n        \"num_unique_values\": 14,\n        \"samples\": [\n          9,\n          13,\n          4\n        ],\n        \"semantic_type\": \"\",\n        \"description\": \"\"\n      }\n    },\n    {\n      \"column\": \"NumWebVisitsMonth\",\n      \"properties\": {\n        \"dtype\": \"number\",\n        \"std\": 2,\n        \"min\": 0,\n        \"max\": 20,\n        \"num_unique_values\": 16,\n        \"samples\": [\n          7,\n          5,\n          9\n        ],\n        \"semantic_type\": \"\",\n        \"description\": \"\"\n      }\n    }\n  ]\n}"
            }
          },
          "metadata": {},
          "execution_count": 59
        }
      ]
    },
    {
      "cell_type": "code",
      "source": [
        "customer_data2_cleaned.groupby('Education').size()"
      ],
      "metadata": {
        "colab": {
          "base_uri": "https://localhost:8080/"
        },
        "id": "k3ZCxPJTNyMB",
        "outputId": "58eda8fa-b21e-43a1-c15f-f81b903c109a"
      },
      "execution_count": 53,
      "outputs": [
        {
          "output_type": "execute_result",
          "data": {
            "text/plain": [
              "Education\n",
              "2n Cycle       197\n",
              "Basic           54\n",
              "Graduation    1107\n",
              "Master         363\n",
              "PhD            475\n",
              "dtype: int64"
            ]
          },
          "metadata": {},
          "execution_count": 53
        }
      ]
    },
    {
      "cell_type": "markdown",
      "source": [],
      "metadata": {
        "id": "ZPEeLEiSP91d"
      }
    },
    {
      "cell_type": "markdown",
      "source": [
        "#Identifikasi Korelasi"
      ],
      "metadata": {
        "id": "xs0lusLpPlQ_"
      }
    },
    {
      "cell_type": "markdown",
      "source": [
        "Identifikasi Korelasi antara variabel dependen (Income) dan variabel independen dan buat kesimpulan dari hasil perbandingan antara \"income\" dengan \"strata pendidikan/Education\""
      ],
      "metadata": {
        "id": "oAUrnk5SNiqE"
      }
    },
    {
      "cell_type": "code",
      "source": [
        "# Calculate the correlation matrix\n",
        "correlation_matrix = customer_data2_cleaned.corr()\n",
        "# Korelasi variabel A dengan variabel lainnya\n",
        "correlation_with_Income = correlation_matrix['Income'].sort_values(ascending=False)\n",
        "# Tampilkan hasilnya\n",
        "print(correlation_with_Income)"
      ],
      "metadata": {
        "colab": {
          "base_uri": "https://localhost:8080/"
        },
        "id": "GbHnmJrOSV46",
        "outputId": "823470c8-d179-4961-8a78-721d9d265779"
      },
      "execution_count": 63,
      "outputs": [
        {
          "output_type": "stream",
          "name": "stdout",
          "text": [
            "Income               1.000000\n",
            "NumStorePurchases    0.526406\n",
            "NumWebPurchases      0.386658\n",
            "Education            0.125471\n",
            "Dt_Customer          0.020892\n",
            "ID                   0.012508\n",
            "Recency             -0.005415\n",
            "Year_Birth          -0.164506\n",
            "NumWebVisitsMonth   -0.552269\n",
            "Name: Income, dtype: float64\n"
          ]
        }
      ]
    },
    {
      "cell_type": "code",
      "source": [
        "plt.figure(figsize=(10, 6))\n",
        "sns.heatmap(correlation_matrix[['Income']], annot=True, cmap=\"coolwarm\", fmt=\".2f\")\n",
        "plt.title('Correlation of Features with Income')\n",
        "plt.show()"
      ],
      "metadata": {
        "colab": {
          "base_uri": "https://localhost:8080/",
          "height": 492
        },
        "id": "gULx9S0Y14Fv",
        "outputId": "b6f3c425-1502-476c-de49-30f2cc322f98"
      },
      "execution_count": 42,
      "outputs": [
        {
          "output_type": "display_data",
          "data": {
            "text/plain": [
              "<Figure size 1000x600 with 2 Axes>"
            ],
            "image/png": "[encoded data removed]"
          },
          "metadata": {}
        }
      ]
    },
    {
      "cell_type": "code",
      "source": [
        "# Membuat plot matriks korelasi untuk semua variabel (opsional)\n",
        "customer_data2_cleaned.corr()\n",
        "\n",
        "plt.figure(figsize=(8, 6))\n",
        "sns.heatmap(correlation_matrix, annot=True, cmap='coolwarm', vmin=-1, vmax=1)\n",
        "\n",
        "# Menambahkan judul\n",
        "plt.title('Matriks Korelasi')\n",
        "\n",
        "# Menampilkan plot\n",
        "plt.show()"
      ],
      "metadata": {
        "colab": {
          "base_uri": "https://localhost:8080/",
          "height": 674
        },
        "id": "W8ighiGk176Z",
        "outputId": "2ba0300f-982d-450d-bc40-77682465be64"
      },
      "execution_count": 43,
      "outputs": [
        {
          "output_type": "display_data",
          "data": {
            "text/plain": [
              "<Figure size 800x600 with 2 Axes>"
            ],
            "image/png": "[encoded data removed]"
          },
          "metadata": {}
        }
      ]
    },
    {
      "cell_type": "markdown",
      "source": [
        "#Korelasi Education - Income"
      ],
      "metadata": {
        "id": "Bs0DUlsbSeJ0"
      }
    },
    {
      "cell_type": "code",
      "source": [
        "# Calculate the correlation matrix\n",
        "correlation_matrix = customer_data2_cleaned.corr()\n",
        "# Korelasi variabel A dengan variabel lainnya\n",
        "correlation_with_Income = correlation_matrix['Income'].sort_values(ascending=False)\n",
        "correlation_income_education = correlation_with_Income['Education']\n",
        "# Tampilkan hasilnya\n",
        "print(correlation_income_education)"
      ],
      "metadata": {
        "colab": {
          "base_uri": "https://localhost:8080/"
        },
        "id": "OQTpBTroSm50",
        "outputId": "20a33f50-0911-490f-d4f1-af2987bc3c26"
      },
      "execution_count": 64,
      "outputs": [
        {
          "output_type": "stream",
          "name": "stdout",
          "text": [
            "0.12547142508903364\n"
          ]
        }
      ]
    },
    {
      "cell_type": "markdown",
      "source": [
        "Berdasarkan hasil korelasi antara *Education* dengan *Income*, kita dapat menyimpulkan bahwa pendidikan seseorang **tidak terlalu berpengaruh** terhadap pendapatan mereka masing-masing. Hal ini dibuktikan dengan hasil korelasi mendekati 0 yaitu 0.12547142508903364. Dikarenakan hasil mendekati 0, maka ikatan korelasi antara *Education* dengan *Income* tergolong lemah."
      ],
      "metadata": {
        "id": "3dc0E6q5TYgp"
      }
    },
    {
      "cell_type": "markdown",
      "source": [
        "Jika melihat rata-rata pendapatan berdasarkan strata pendidikan, income dari orang yang baru lulus atau freshgraduate bisa mendekati orang yang bergelar Master. Hal ini membuktikan bahwa income seseorang tidak terlalu dipengaruhi oleh strata pendidikan."
      ],
      "metadata": {
        "id": "w4pP6x5IUckC"
      }
    },
    {
      "cell_type": "code",
      "source": [
        "plt.figure(figsize=(10, 6))\n",
        "sns.barplot(x='Education', y='Income', data=customer_data2_cleaned)\n",
        "plt.title('Rata-rata Pendapatan Berdasarkan Strata Pendidikan')\n",
        "plt.xlabel('Strata Pendidikan')\n",
        "plt.ylabel('Rata-rata Pendapatan')\n",
        "plt.xticks(rotation=45)\n",
        "plt.show()"
      ],
      "metadata": {
        "colab": {
          "base_uri": "https://localhost:8080/",
          "height": 574
        },
        "id": "5X9G_7o-KK9Z",
        "outputId": "c1a8b6fe-c9da-4e05-c732-b9cf75037520"
      },
      "execution_count": 57,
      "outputs": [
        {
          "output_type": "display_data",
          "data": {
            "text/plain": [
              "<Figure size 1000x600 with 1 Axes>"
            ],
            "image/png": "[encoded data removed]"
          },
          "metadata": {}
        }
      ]
    }
  ]
}